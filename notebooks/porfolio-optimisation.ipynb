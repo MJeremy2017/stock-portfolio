{
 "cells": [
  {
   "cell_type": "markdown",
   "metadata": {},
   "source": [
    "# Markowitz Optimization\n",
    "\n",
    "## 1. Set a Goal\n",
    "\n",
    "Is the objective to minimise risk or maximise Sharpe Ratio?\n",
    "\n",
    "## 2. Select Asset Classes\n",
    "\n",
    "Choose broad asset classes like:\n",
    "\n",
    "Equities (Domestic and international stocks)\n",
    "Fixed Income (Government bonds, corporate bonds)\n",
    "Real Assets (REITs, commodities)\n",
    "Cash and Cash Equivalents (Money market funds)\n",
    "\n",
    "\n",
    "## 3. Apply Markovitz Optimization\n",
    "\n",
    "__Monitor and Rebalance Periodically__\n",
    "\n",
    "__Frequency__: Rebalance every 6-12 months. This strikes a good balance between maintaining the optimal allocation and minimizing trading costs.\n",
    "\n",
    "__Thresholds__: Alternatively, rebalance only when an asset class deviates by more than a certain percentage (e.g., 5%) from its target weight.\n",
    "\n",
    "Rebalancing Steps:\n",
    "\n",
    "__Check__ your current allocation against the target weights.\n",
    "\n",
    "__Sell__ assets that are overweight to reduce their allocation.\n",
    "\n",
    "__Buy__ assets that are underweight to increase their allocation."
   ]
  },
  {
   "cell_type": "code",
   "execution_count": 1,
   "metadata": {},
   "outputs": [],
   "source": [
    "import numpy as np\n",
    "import pandas as pd\n",
    "import yfinance as yf\n",
    "import matplotlib.pyplot as plt\n",
    "from scipy.optimize import minimize"
   ]
  },
  {
   "cell_type": "code",
   "execution_count": 11,
   "metadata": {},
   "outputs": [
    {
     "name": "stderr",
     "output_type": "stream",
     "text": [
      "[*********************100%%**********************]  3 of 3 completed\n"
     ]
    }
   ],
   "source": [
    "# Define the ticker symbols\n",
    "tickers = ['QQQ', 'SPY', 'TLT']  # QQQ for NASDAQ, SPY for S&P 500, TLT for 20-year US Bonds\n",
    "\n",
    "# Fetch historical data\n",
    "data = yf.download(tickers, start=\"1999-01-01\", end=\"2014-01-01\")['Adj Close']\n",
    "\n",
    "# Calculate daily returns\n",
    "returns = data.pct_change().dropna()\n"
   ]
  },
  {
   "cell_type": "code",
   "execution_count": 12,
   "metadata": {},
   "outputs": [],
   "source": [
    "# Calculate mean daily return and covariance of daily returns\n",
    "mean_returns = returns.mean()\n",
    "cov_matrix = returns.cov()\n",
    "\n",
    "num_assets = len(tickers)\n",
    "# Initial weights set to equal distribution\n",
    "weights = np.array([1/num_assets] * num_assets)"
   ]
  },
  {
   "cell_type": "code",
   "execution_count": 13,
   "metadata": {},
   "outputs": [
    {
     "data": {
      "text/plain": [
       "Ticker\n",
       "QQQ    0.000575\n",
       "SPY    0.000408\n",
       "TLT    0.000281\n",
       "dtype: float64"
      ]
     },
     "execution_count": 13,
     "metadata": {},
     "output_type": "execute_result"
    }
   ],
   "source": [
    "mean_returns"
   ]
  },
  {
   "cell_type": "code",
   "execution_count": 14,
   "metadata": {},
   "outputs": [
    {
     "data": {
      "text/html": [
       "<div>\n",
       "<style scoped>\n",
       "    .dataframe tbody tr th:only-of-type {\n",
       "        vertical-align: middle;\n",
       "    }\n",
       "\n",
       "    .dataframe tbody tr th {\n",
       "        vertical-align: top;\n",
       "    }\n",
       "\n",
       "    .dataframe thead th {\n",
       "        text-align: right;\n",
       "    }\n",
       "</style>\n",
       "<table border=\"1\" class=\"dataframe\">\n",
       "  <thead>\n",
       "    <tr style=\"text-align: right;\">\n",
       "      <th>Ticker</th>\n",
       "      <th>QQQ</th>\n",
       "      <th>SPY</th>\n",
       "      <th>TLT</th>\n",
       "    </tr>\n",
       "    <tr>\n",
       "      <th>Ticker</th>\n",
       "      <th></th>\n",
       "      <th></th>\n",
       "      <th></th>\n",
       "    </tr>\n",
       "  </thead>\n",
       "  <tbody>\n",
       "    <tr>\n",
       "      <th>QQQ</th>\n",
       "      <td>0.000206</td>\n",
       "      <td>0.000166</td>\n",
       "      <td>-0.000050</td>\n",
       "    </tr>\n",
       "    <tr>\n",
       "      <th>SPY</th>\n",
       "      <td>0.000166</td>\n",
       "      <td>0.000166</td>\n",
       "      <td>-0.000048</td>\n",
       "    </tr>\n",
       "    <tr>\n",
       "      <th>TLT</th>\n",
       "      <td>-0.000050</td>\n",
       "      <td>-0.000048</td>\n",
       "      <td>0.000078</td>\n",
       "    </tr>\n",
       "  </tbody>\n",
       "</table>\n",
       "</div>"
      ],
      "text/plain": [
       "Ticker       QQQ       SPY       TLT\n",
       "Ticker                              \n",
       "QQQ     0.000206  0.000166 -0.000050\n",
       "SPY     0.000166  0.000166 -0.000048\n",
       "TLT    -0.000050 -0.000048  0.000078"
      ]
     },
     "execution_count": 14,
     "metadata": {},
     "output_type": "execute_result"
    }
   ],
   "source": [
    "cov_matrix"
   ]
  },
  {
   "cell_type": "code",
   "execution_count": 30,
   "metadata": {},
   "outputs": [
    {
     "name": "stdout",
     "output_type": "stream",
     "text": [
      "Optimized Weights:\n",
      "\n",
      "QQQ: 41.28%\n",
      "SPY: 0.00%\n",
      "TLT: 58.72%\n"
     ]
    }
   ],
   "source": [
    "def portfolio_performance(weights, mean_returns, cov_matrix):\n",
    "    returns = np.sum(mean_returns * weights) * 252  # Convert to annual returns\n",
    "    std_dev = np.sqrt(np.dot(weights.T, np.dot(cov_matrix, weights))) * np.sqrt(252)  # Annual standard deviation\n",
    "    return std_dev, returns\n",
    "\n",
    "\n",
    "# Objective function (minimize negative Sharpe ratio)\n",
    "def negative_sharpe(weights, mean_returns, cov_matrix, risk_free_rate=0.01):\n",
    "    p_std, p_ret = portfolio_performance(weights, mean_returns, cov_matrix)\n",
    "    return -(p_ret - risk_free_rate) / p_std\n",
    "\n",
    "# Objective function (minimize variance)\n",
    "def portfolio_variance(weights, mean_returns, cov_matrix):\n",
    "    return weights.T @ cov_matrix @ weights\n",
    "\n",
    "# Constraints: weights must sum to 1\n",
    "constraints = ({'type': 'eq', 'fun': lambda x: np.sum(x) - 1})\n",
    "\n",
    "# Bounds for each weight\n",
    "bounds = tuple((0, 1) for asset in range(num_assets))\n",
    "optimized_result = minimize(negative_sharpe, weights, args=(mean_returns, cov_matrix), method='SLSQP', bounds=bounds, constraints=constraints)\n",
    "\n",
    "# Get the optimized weights\n",
    "optimized_weights = optimized_result.x\n",
    "\n",
    "print(\"Optimized Weights:\\n\")\n",
    "for ticker, weight in zip(tickers, optimized_weights):\n",
    "    print(f\"{ticker}: {weight:.2%}\")"
   ]
  },
  {
   "cell_type": "code",
   "execution_count": 10,
   "metadata": {},
   "outputs": [
    {
     "data": {
      "image/png": "[encoded data removed]",
      "text/plain": [
       "<Figure size 432x288 with 1 Axes>"
      ]
     },
     "metadata": {
      "needs_background": "light"
     },
     "output_type": "display_data"
    }
   ],
   "source": [
    "def portfolio_volatility(weights, mean_returns, cov_matrix):\n",
    "    return portfolio_performance(weights, mean_returns, cov_matrix)[0]\n",
    "\n",
    "frontier_y = np.linspace(0, 0.3, 100)\n",
    "frontier_x = []\n",
    "\n",
    "for possible_return in frontier_y:\n",
    "    cons = (constraints, {'type': 'eq', 'fun': lambda x: portfolio_performance(x, mean_returns, cov_matrix)[1] - possible_return})\n",
    "    result = minimize(portfolio_volatility, weights, args=(mean_returns, cov_matrix), method='SLSQP', bounds=bounds, constraints=cons)\n",
    "    frontier_x.append(result['fun'])\n",
    "\n",
    "plt.plot(frontier_x, frontier_y, 'b--', linewidth=3)\n",
    "plt.title('Efficient Frontier')\n",
    "plt.xlabel('Portfolio Volatility')\n",
    "plt.ylabel('Portfolio Return')\n",
    "plt.show()\n"
   ]
  },
  {
   "cell_type": "markdown",
   "metadata": {},
   "source": [
    "# Bootstrap"
   ]
  },
  {
   "cell_type": "code",
   "execution_count": 39,
   "metadata": {},
   "outputs": [],
   "source": [
    "def bootstrap_resample(returns, n_bootstraps, n_days, log_steps=100):\n",
    "    avg_weights = np.zeros(len(returns.columns))\n",
    "    \n",
    "    for i in range(n_bootstraps):\n",
    "        # Resample the returns with replacement\n",
    "        sample_indices = np.random.choice(range(len(returns)), size=n_days, replace=True)\n",
    "        resampled_returns = returns.iloc[sample_indices]\n",
    "        \n",
    "        # Perform optimization on the resampled data\n",
    "        weights = optimize_portfolio(resampled_returns)\n",
    "        avg_weights += weights\n",
    "        if i % log_steps == 0:\n",
    "            print(\"Finished round:\", i, weights*100)\n",
    "    \n",
    "    avg_weights /= n_bootstraps\n",
    "    return avg_weights\n",
    "\n",
    "\n",
    "def optimize_portfolio(rets):\n",
    "    constraints = ({'type': 'eq', 'fun': lambda x: np.sum(x) - 1})\n",
    "\n",
    "    mean_returns = rets.mean()\n",
    "    cov_matrix = rets.cov()\n",
    "\n",
    "    bounds = tuple((0, 1) for asset in range(num_assets))\n",
    "    optimized_result = minimize(negative_sharpe, weights, args=(mean_returns, cov_matrix), method='SLSQP', bounds=bounds, constraints=constraints)\n",
    "#     optimized_result = minimize(portfolio_variance, weights, args=(mean_returns, cov_matrix), method='SLSQP', bounds=bounds, constraints=constraints)\n",
    "\n",
    "\n",
    "    optimized_weights = optimized_result.x\n",
    "    return optimized_weights"
   ]
  },
  {
   "cell_type": "code",
   "execution_count": 41,
   "metadata": {},
   "outputs": [
    {
     "name": "stdout",
     "output_type": "stream",
     "text": [
      "Finished round: 0 [4.07583267e+01 1.21430643e-14 5.92416733e+01]\n",
      "Finished round: 100 [ 0.         70.72231263 29.27768737]\n",
      "Finished round: 200 [  0. 100.   0.]\n",
      "Finished round: 300 [47.11085474  0.         52.88914526]\n",
      "Finished round: 400 [ 0.         52.79188783 47.20811217]\n",
      "Optimized Weights:\n",
      "\n",
      "SPY: 32.86%\n",
      "QQQ: 24.09%\n",
      "TLT: 43.06%\n"
     ]
    }
   ],
   "source": [
    "weights = bootstrap_resample(returns, 500, 252)\n",
    "\n",
    "print(\"Optimized Weights:\\n\")\n",
    "for ticker, weight in zip(tickers, weights):\n",
    "    print(f\"{ticker}: {weight:.2%}\")"
   ]
  },
  {
   "cell_type": "markdown",
   "metadata": {},
   "source": [
    "# Validation"
   ]
  },
  {
   "cell_type": "code",
   "execution_count": 38,
   "metadata": {},
   "outputs": [
    {
     "name": "stderr",
     "output_type": "stream",
     "text": [
      "[*********************100%%**********************]  3 of 3 completed\n"
     ]
    }
   ],
   "source": [
    "tickers = ['SPY', 'QQQ', 'TLT']\n",
    "data = yf.download(tickers, start=\"2000-01-01\", end=\"2023-12-31\")['Adj Close']\n",
    "returns = data.pct_change().dropna()"
   ]
  },
  {
   "cell_type": "code",
   "execution_count": 47,
   "metadata": {},
   "outputs": [],
   "source": [
    "def portfolio_annual_performance(weights, mean_returns, cov_matrix):\n",
    "    returns = np.sum(mean_returns * weights) * 252\n",
    "    std_dev = np.sqrt(np.dot(weights.T, np.dot(cov_matrix, weights))) * np.sqrt(252)\n",
    "    return std_dev, returns\n",
    "\n",
    "def negative_sharpe(weights, mean_returns, cov_matrix, risk_free_rate=0.01):\n",
    "    p_std, p_ret = portfolio_annual_performance(weights, mean_returns, cov_matrix)\n",
    "    return -(p_ret - risk_free_rate) / p_std\n",
    "\n",
    "def optimize_portfolio(returns):\n",
    "    mean_returns = returns.mean()\n",
    "    cov_matrix = returns.cov()\n",
    "    num_assets = len(mean_returns)\n",
    "    args = (mean_returns, cov_matrix)\n",
    "    constraints = ({'type': 'eq', 'fun': lambda x: np.sum(x) - 1})\n",
    "    bounds = tuple((0, 1) for asset in range(num_assets))\n",
    "    result = minimize(negative_sharpe, num_assets*[1./num_assets,], args=args,\n",
    "                      method='SLSQP', bounds=bounds, constraints=constraints)\n",
    "    return result.x\n",
    "\n",
    "\n",
    "def bootstrap_resample(returns, n_bootstraps, n_days, log_steps=100):\n",
    "    avg_weights = np.zeros(len(returns.columns))\n",
    "    \n",
    "    for i in range(n_bootstraps):\n",
    "        # Resample the returns with replacement\n",
    "        sample_indices = np.random.choice(range(len(returns)), size=n_days, replace=True)\n",
    "        resampled_returns = returns.iloc[sample_indices]\n",
    "        \n",
    "        # Perform optimization on the resampled data\n",
    "        weights = optimize_portfolio(resampled_returns)\n",
    "        avg_weights += weights\n",
    "        if (i+1) % log_steps == 0:\n",
    "            print(\"Finished round:\", i+1, weights*100)\n",
    "    \n",
    "    avg_weights /= n_bootstraps\n",
    "    return avg_weights"
   ]
  },
  {
   "cell_type": "code",
   "execution_count": 49,
   "metadata": {
    "scrolled": false
   },
   "outputs": [
    {
     "name": "stdout",
     "output_type": "stream",
     "text": [
      "Running year: 2010\n",
      "Running year: 2011\n",
      "Running year: 2012\n",
      "Running year: 2013\n",
      "Running year: 2014\n",
      "Running year: 2015\n",
      "Running year: 2016\n",
      "Running year: 2017\n",
      "Running year: 2018\n",
      "Running year: 2019\n",
      "Running year: 2020\n",
      "Running year: 2021\n",
      "Running year: 2022\n",
      "Running year: 2023\n",
      "    Year  Sharpe_Markowitz  Sharpe_Equal  Ret_Markowitz  Ret_Equal\n",
      "0   2010          1.569670      1.382158       0.139003   0.152554\n",
      "1   2011          2.075249      1.090863       0.195775   0.140225\n",
      "2   2012          1.229973      1.561568       0.091771   0.123750\n",
      "3   2013          0.914824      1.866087       0.080838   0.157012\n",
      "4   2014          3.053656      2.427300       0.201343   0.188284\n",
      "5   2015          0.249073      0.304943       0.032879   0.041450\n",
      "6   2016          0.604548      0.712041       0.058938   0.074497\n",
      "7   2017          2.913192      3.286963       0.177687   0.193907\n",
      "8   2018         -0.110453     -0.130082      -0.001877  -0.006528\n",
      "9   2019          2.929685      2.865702       0.250056   0.253736\n",
      "10  2020          1.578962      1.375457       0.278386   0.290150\n",
      "11  2021          0.983904      1.370596       0.113538   0.160845\n",
      "12  2022         -1.538977     -1.474504      -0.296023  -0.290342\n",
      "13  2023          1.845860      1.898675       0.238850   0.248157\n"
     ]
    }
   ],
   "source": [
    "window = 10 \n",
    "years = range(2010, 2024)\n",
    "sharpe_markowitz = []\n",
    "ret_markowitz = []\n",
    "sharpe_equal = []\n",
    "ret_equal = []\n",
    "\n",
    "for year in years:\n",
    "    print(\"Running year:\", year)\n",
    "    start_year = year - window\n",
    "    end_year = year - 1\n",
    "    returns_window = returns.loc[f\"{start_year}-01-01\":f\"{end_year}-12-31\"]\n",
    "\n",
    "    # Optimize portfolio at the end of this window\n",
    "    optimal_weights = bootstrap_resample(returns_window, 500, 252, log_steps=1000)\n",
    "    next_year_returns = returns.loc[f\"{year}-01-01\":f\"{year}-12-31\"]\n",
    "    \n",
    "    # Calculate Sharpe ratio for Markowitz portfolio\n",
    "    mean_returns = next_year_returns.mean()\n",
    "    cov_matrix = next_year_returns.cov()\n",
    "    std_dev, ret = portfolio_annual_performance(optimal_weights, mean_returns, cov_matrix)\n",
    "    sharpe_markowitz.append((ret - 0.01) / std_dev)\n",
    "    ret_markowitz.append(ret)\n",
    "\n",
    "    # Calculate Sharpe ratio for equal weight portfolio\n",
    "    equal_weights = np.array([1/3, 1/3, 1/3])\n",
    "    std_dev, ret = portfolio_annual_performance(equal_weights, mean_returns, cov_matrix)\n",
    "    sharpe_equal.append((ret - 0.01) / std_dev)\n",
    "    ret_equal.append(ret)\n",
    "\n",
    "# Output the results\n",
    "results = pd.DataFrame({\n",
    "    'Year': years,\n",
    "    'Sharpe_Markowitz': sharpe_markowitz,\n",
    "    'Sharpe_Equal': sharpe_equal,\n",
    "    'Ret_Markowitz': ret_markowitz,\n",
    "    'Ret_Equal': ret_equal,\n",
    "})\n",
    "print(results)\n"
   ]
  },
  {
   "cell_type": "code",
   "execution_count": 50,
   "metadata": {},
   "outputs": [
    {
     "name": "stdout",
     "output_type": "stream",
     "text": [
      "Markowitz sharpe mean: 1.3070832274517605 std: 1.2792074443203352\n",
      "Equal sharpe mean: 1.324126420963171 std: 1.2262950316187808\n"
     ]
    }
   ],
   "source": [
    "m, s = results['Sharpe_Markowitz'].mean(), results['Sharpe_Markowitz'].std()\n",
    "print(\"Markowitz sharpe mean:\", m, \"std:\", s)\n",
    "\n",
    "m, s = results['Sharpe_Equal'].mean(), results['Sharpe_Equal'].std()\n",
    "print(\"Equal sharpe mean:\", m, \"std:\", s)"
   ]
  },
  {
   "cell_type": "code",
   "execution_count": null,
   "metadata": {},
   "outputs": [],
   "source": []
  }
 ],
 "metadata": {
  "kernelspec": {
   "display_name": "Python 3",
   "language": "python",
   "name": "python3"
  },
  "language_info": {
   "codemirror_mode": {
    "name": "ipython",
    "version": 3
   },
   "file_extension": ".py",
   "mimetype": "text/x-python",
   "name": "python",
   "nbconvert_exporter": "python",
   "pygments_lexer": "ipython3",
   "version": "3.7.7"
  }
 },
 "nbformat": 4,
 "nbformat_minor": 4
}
