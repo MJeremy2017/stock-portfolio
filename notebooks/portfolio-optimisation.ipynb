{
 "cells": [
  {
   "cell_type": "markdown",
   "metadata": {},
   "source": [
    "# Markowitz Optimization\n",
    "\n",
    "## 1. Set a Goal\n",
    "\n",
    "Is the objective to minimise risk or maximise Sharpe Ratio?\n",
    "\n",
    "## 2. Select Asset Classes\n",
    "\n",
    "Choose broad asset classes like:\n",
    "\n",
    "Equities (Domestic and international stocks)\n",
    "Fixed Income (Government bonds, corporate bonds)\n",
    "Real Assets (REITs, commodities)\n",
    "Cash and Cash Equivalents (Money market funds)\n",
    "\n",
    "\n",
    "## 3. Apply Markovitz Optimization\n",
    "\n",
    "__Monitor and Rebalance Periodically__\n",
    "\n",
    "__Frequency__: Rebalance every 6-12 months. This strikes a good balance between maintaining the optimal allocation and minimizing trading costs.\n",
    "\n",
    "__Thresholds__: Alternatively, rebalance only when an asset class deviates by more than a certain percentage (e.g., 5%) from its target weight.\n",
    "\n",
    "Rebalancing Steps:\n",
    "\n",
    "__Check__ your current allocation against the target weights.\n",
    "\n",
    "__Sell__ assets that are overweight to reduce their allocation.\n",
    "\n",
    "__Buy__ assets that are underweight to increase their allocation."
   ]
  },
  {
   "cell_type": "code",
   "execution_count": 63,
   "metadata": {},
   "outputs": [],
   "source": [
    "import numpy as np\n",
    "import pandas as pd\n",
    "import yfinance as yf\n",
    "import matplotlib.pyplot as plt\n",
    "from scipy.optimize import minimize\n",
    "import seaborn as sns"
   ]
  },
  {
   "cell_type": "code",
   "execution_count": 49,
   "metadata": {},
   "outputs": [
    {
     "name": "stderr",
     "output_type": "stream",
     "text": [
      "[*********************100%%**********************]  6 of 6 completed\n"
     ]
    }
   ],
   "source": [
    "# Define the ticker symbols\n",
    "tickers = ['SPY', 'QQQ', 'TLT', 'SOXX', 'DIA', 'BSV']\n",
    "\n",
    "# Fetch historical data\n",
    "data = yf.download(tickers, start=\"1999-01-01\", end=\"2014-01-01\")['Adj Close']\n",
    "\n",
    "# Calculate daily returns\n",
    "returns = data.pct_change().dropna()\n"
   ]
  },
  {
   "cell_type": "code",
   "execution_count": 50,
   "metadata": {},
   "outputs": [],
   "source": [
    "# Calculate mean daily return and covariance of daily returns\n",
    "mean_returns = returns.mean()\n",
    "cov_matrix = returns.cov()\n",
    "\n",
    "num_assets = len(tickers)\n",
    "# Initial weights set to equal distribution\n",
    "weights = np.array([1/num_assets] * num_assets)"
   ]
  },
  {
   "cell_type": "code",
   "execution_count": 51,
   "metadata": {},
   "outputs": [
    {
     "data": {
      "text/plain": [
       "Ticker\n",
       "BSV     0.000143\n",
       "DIA     0.000361\n",
       "QQQ     0.000545\n",
       "SOXX    0.000392\n",
       "SPY     0.000340\n",
       "TLT     0.000290\n",
       "dtype: float64"
      ]
     },
     "execution_count": 51,
     "metadata": {},
     "output_type": "execute_result"
    }
   ],
   "source": [
    "mean_returns"
   ]
  },
  {
   "cell_type": "code",
   "execution_count": 52,
   "metadata": {},
   "outputs": [
    {
     "data": {
      "text/html": [
       "<div>\n",
       "<style scoped>\n",
       "    .dataframe tbody tr th:only-of-type {\n",
       "        vertical-align: middle;\n",
       "    }\n",
       "\n",
       "    .dataframe tbody tr th {\n",
       "        vertical-align: top;\n",
       "    }\n",
       "\n",
       "    .dataframe thead th {\n",
       "        text-align: right;\n",
       "    }\n",
       "</style>\n",
       "<table border=\"1\" class=\"dataframe\">\n",
       "  <thead>\n",
       "    <tr style=\"text-align: right;\">\n",
       "      <th>Ticker</th>\n",
       "      <th>BSV</th>\n",
       "      <th>DIA</th>\n",
       "      <th>QQQ</th>\n",
       "      <th>SOXX</th>\n",
       "      <th>SPY</th>\n",
       "      <th>TLT</th>\n",
       "    </tr>\n",
       "    <tr>\n",
       "      <th>Ticker</th>\n",
       "      <th></th>\n",
       "      <th></th>\n",
       "      <th></th>\n",
       "      <th></th>\n",
       "      <th></th>\n",
       "      <th></th>\n",
       "    </tr>\n",
       "  </thead>\n",
       "  <tbody>\n",
       "    <tr>\n",
       "      <th>BSV</th>\n",
       "      <td>0.000006</td>\n",
       "      <td>-0.000008</td>\n",
       "      <td>-0.000010</td>\n",
       "      <td>-0.000010</td>\n",
       "      <td>-0.000009</td>\n",
       "      <td>0.000009</td>\n",
       "    </tr>\n",
       "    <tr>\n",
       "      <th>DIA</th>\n",
       "      <td>-0.000008</td>\n",
       "      <td>0.000191</td>\n",
       "      <td>0.000186</td>\n",
       "      <td>0.000208</td>\n",
       "      <td>0.000201</td>\n",
       "      <td>-0.000063</td>\n",
       "    </tr>\n",
       "    <tr>\n",
       "      <th>QQQ</th>\n",
       "      <td>-0.000010</td>\n",
       "      <td>0.000186</td>\n",
       "      <td>0.000227</td>\n",
       "      <td>0.000255</td>\n",
       "      <td>0.000207</td>\n",
       "      <td>-0.000068</td>\n",
       "    </tr>\n",
       "    <tr>\n",
       "      <th>SOXX</th>\n",
       "      <td>-0.000010</td>\n",
       "      <td>0.000208</td>\n",
       "      <td>0.000255</td>\n",
       "      <td>0.000379</td>\n",
       "      <td>0.000236</td>\n",
       "      <td>-0.000084</td>\n",
       "    </tr>\n",
       "    <tr>\n",
       "      <th>SPY</th>\n",
       "      <td>-0.000009</td>\n",
       "      <td>0.000201</td>\n",
       "      <td>0.000207</td>\n",
       "      <td>0.000236</td>\n",
       "      <td>0.000222</td>\n",
       "      <td>-0.000071</td>\n",
       "    </tr>\n",
       "    <tr>\n",
       "      <th>TLT</th>\n",
       "      <td>0.000009</td>\n",
       "      <td>-0.000063</td>\n",
       "      <td>-0.000068</td>\n",
       "      <td>-0.000084</td>\n",
       "      <td>-0.000071</td>\n",
       "      <td>0.000104</td>\n",
       "    </tr>\n",
       "  </tbody>\n",
       "</table>\n",
       "</div>"
      ],
      "text/plain": [
       "Ticker       BSV       DIA       QQQ      SOXX       SPY       TLT\n",
       "Ticker                                                            \n",
       "BSV     0.000006 -0.000008 -0.000010 -0.000010 -0.000009  0.000009\n",
       "DIA    -0.000008  0.000191  0.000186  0.000208  0.000201 -0.000063\n",
       "QQQ    -0.000010  0.000186  0.000227  0.000255  0.000207 -0.000068\n",
       "SOXX   -0.000010  0.000208  0.000255  0.000379  0.000236 -0.000084\n",
       "SPY    -0.000009  0.000201  0.000207  0.000236  0.000222 -0.000071\n",
       "TLT     0.000009 -0.000063 -0.000068 -0.000084 -0.000071  0.000104"
      ]
     },
     "execution_count": 52,
     "metadata": {},
     "output_type": "execute_result"
    }
   ],
   "source": [
    "cov_matrix"
   ]
  },
  {
   "cell_type": "markdown",
   "metadata": {},
   "source": [
    "# Single Period Optimisation"
   ]
  },
  {
   "cell_type": "code",
   "execution_count": 30,
   "metadata": {},
   "outputs": [
    {
     "name": "stdout",
     "output_type": "stream",
     "text": [
      "Optimized Weights:\n",
      "\n",
      "QQQ: 41.28%\n",
      "SPY: 0.00%\n",
      "TLT: 58.72%\n"
     ]
    }
   ],
   "source": [
    "def portfolio_performance(weights, mean_returns, cov_matrix):\n",
    "    returns = np.sum(mean_returns * weights) * 252  # Convert to annual returns\n",
    "    std_dev = np.sqrt(np.dot(weights.T, np.dot(cov_matrix, weights))) * np.sqrt(252)  # Annual standard deviation\n",
    "    return std_dev, returns\n",
    "\n",
    "\n",
    "# Objective function (minimize negative Sharpe ratio)\n",
    "def negative_sharpe(weights, mean_returns, cov_matrix, risk_free_rate=0.01):\n",
    "    p_std, p_ret = portfolio_performance(weights, mean_returns, cov_matrix)\n",
    "    return -(p_ret - risk_free_rate) / p_std\n",
    "\n",
    "# Objective function (minimize variance)\n",
    "def portfolio_variance(weights, mean_returns, cov_matrix):\n",
    "    return weights.T @ cov_matrix @ weights\n",
    "\n",
    "# Constraints: weights must sum to 1\n",
    "constraints = ({'type': 'eq', 'fun': lambda x: np.sum(x) - 1})\n",
    "\n",
    "# Bounds for each weight\n",
    "bounds = tuple((0, 1) for asset in range(num_assets))\n",
    "optimized_result = minimize(negative_sharpe, weights, args=(mean_returns, cov_matrix), method='SLSQP', bounds=bounds, constraints=constraints)\n",
    "\n",
    "# Get the optimized weights\n",
    "optimized_weights = optimized_result.x\n",
    "\n",
    "print(\"Optimized Weights:\\n\")\n",
    "for ticker, weight in zip(tickers, optimized_weights):\n",
    "    print(f\"{ticker}: {weight:.2%}\")"
   ]
  },
  {
   "cell_type": "code",
   "execution_count": 10,
   "metadata": {},
   "outputs": [
    {
     "data": {
      "image/png": "[encoded data removed]",
      "text/plain": [
       "<Figure size 432x288 with 1 Axes>"
      ]
     },
     "metadata": {
      "needs_background": "light"
     },
     "output_type": "display_data"
    }
   ],
   "source": [
    "def portfolio_volatility(weights, mean_returns, cov_matrix):\n",
    "    return portfolio_performance(weights, mean_returns, cov_matrix)[0]\n",
    "\n",
    "frontier_y = np.linspace(0, 0.3, 100)\n",
    "frontier_x = []\n",
    "\n",
    "for possible_return in frontier_y:\n",
    "    cons = (constraints, {'type': 'eq', 'fun': lambda x: portfolio_performance(x, mean_returns, cov_matrix)[1] - possible_return})\n",
    "    result = minimize(portfolio_volatility, weights, args=(mean_returns, cov_matrix), method='SLSQP', bounds=bounds, constraints=cons)\n",
    "    frontier_x.append(result['fun'])\n",
    "\n",
    "plt.plot(frontier_x, frontier_y, 'b--', linewidth=3)\n",
    "plt.title('Efficient Frontier')\n",
    "plt.xlabel('Portfolio Volatility')\n",
    "plt.ylabel('Portfolio Return')\n",
    "plt.show()\n"
   ]
  },
  {
   "cell_type": "markdown",
   "metadata": {},
   "source": [
    "# Bootstrap"
   ]
  },
  {
   "cell_type": "code",
   "execution_count": 47,
   "metadata": {},
   "outputs": [],
   "source": [
    "def portfolio_performance(weights, mean_returns, cov_matrix):\n",
    "    returns = np.sum(mean_returns * weights) * 252  # Convert to annual returns\n",
    "    std_dev = np.sqrt(np.dot(weights.T, np.dot(cov_matrix, weights))) * np.sqrt(252)  # Annual standard deviation\n",
    "    return std_dev, returns\n",
    "\n",
    "\n",
    "# Objective function (minimize negative Sharpe ratio)\n",
    "def negative_sharpe(weights, mean_returns, cov_matrix, risk_free_rate=0.01):\n",
    "    p_std, p_ret = portfolio_performance(weights, mean_returns, cov_matrix)\n",
    "    return -(p_ret - risk_free_rate) / p_std\n",
    "\n",
    "# Objective function (minimize variance)\n",
    "def portfolio_variance(weights, mean_returns, cov_matrix):\n",
    "    return weights.T @ cov_matrix @ weights\n",
    "\n",
    "def bootstrap_resample(returns, n_bootstraps, n_days, log_steps=100):\n",
    "    avg_weights = np.zeros(len(returns.columns))\n",
    "    \n",
    "    for i in range(n_bootstraps):\n",
    "        # Resample the returns with replacement\n",
    "        sample_indices = np.random.choice(range(len(returns)), size=n_days, replace=True)\n",
    "        resampled_returns = returns.iloc[sample_indices]\n",
    "        \n",
    "        # Perform optimization on the resampled data\n",
    "        weights = optimize_portfolio(resampled_returns)\n",
    "        avg_weights += weights\n",
    "        if i % log_steps == 0:\n",
    "            print(\"Finished round:\", i, weights*100)\n",
    "    \n",
    "    avg_weights /= n_bootstraps\n",
    "    return avg_weights\n",
    "\n",
    "\n",
    "\n",
    "def optimize_portfolio(rets):\n",
    "    constraints = ({'type': 'eq', 'fun': lambda x: np.sum(x) - 1})\n",
    "\n",
    "    mean_returns = rets.mean()\n",
    "    cov_matrix = rets.cov()\n",
    "\n",
    "    bounds = tuple((0, 1) for asset in range(num_assets))\n",
    "    optimized_result = minimize(negative_sharpe, weights, args=(mean_returns, cov_matrix), method='SLSQP', bounds=bounds, constraints=constraints)\n",
    "#     optimized_result = minimize(portfolio_variance, weights, args=(mean_returns, cov_matrix), method='SLSQP', bounds=bounds, constraints=constraints)\n",
    "\n",
    "\n",
    "    optimized_weights = optimized_result.x\n",
    "    return optimized_weights"
   ]
  },
  {
   "cell_type": "code",
   "execution_count": 53,
   "metadata": {},
   "outputs": [
    {
     "name": "stdout",
     "output_type": "stream",
     "text": [
      "Finished round: 0 [8.24949800e+01 0.00000000e+00 1.75050200e+01 3.13421164e-13\n",
      " 3.61836212e-13 7.20945656e-13]\n",
      "Finished round: 100 [1.17693637e-14 1.48999922e+01 0.00000000e+00 1.65875164e+01\n",
      " 3.22906488e-14 6.85124914e+01]\n",
      "Finished round: 200 [77.15540844  0.          0.          9.31293012  0.         13.53166144]\n",
      "Finished round: 300 [7.91127896e+00 6.93889390e-15 2.51541827e+01 3.55446606e+00\n",
      " 3.88144378e-15 6.33800723e+01]\n",
      "Finished round: 400 [ 0.          0.         72.15429126  0.          0.         27.84570874]\n",
      "Optimized Weights:\n",
      "\n",
      "SPY: 53.40%\n",
      "QQQ: 6.30%\n",
      "TLT: 12.82%\n",
      "SOXX: 5.51%\n",
      "DIA: 2.77%\n",
      "BSV: 19.20%\n"
     ]
    }
   ],
   "source": [
    "weights = bootstrap_resample(returns, 500, 252)\n",
    "\n",
    "print(\"Optimized Weights:\\n\")\n",
    "for ticker, weight in zip(tickers, weights):\n",
    "    print(f\"{ticker}: {weight:.2%}\")"
   ]
  },
  {
   "cell_type": "markdown",
   "metadata": {},
   "source": [
    "# Validation Sharpe"
   ]
  },
  {
   "cell_type": "code",
   "execution_count": 54,
   "metadata": {},
   "outputs": [
    {
     "name": "stderr",
     "output_type": "stream",
     "text": [
      "[*********************100%%**********************]  6 of 6 completed\n"
     ]
    }
   ],
   "source": [
    "tickers = ['SPY', 'QQQ', 'TLT', 'SOXX', 'DIA', 'BSV']\n",
    "data = yf.download(tickers, start=\"2000-01-01\", end=\"2023-12-31\")['Adj Close']\n",
    "returns = data.pct_change().dropna()"
   ]
  },
  {
   "cell_type": "code",
   "execution_count": 100,
   "metadata": {},
   "outputs": [],
   "source": [
    "def portfolio_annual_performance(weights, mean_returns, cov_matrix):\n",
    "    returns = np.sum(mean_returns * weights) * 252\n",
    "    std_dev = np.sqrt(np.dot(weights.T, np.dot(cov_matrix, weights))) * np.sqrt(252)\n",
    "    return std_dev, returns\n",
    "\n",
    "def negative_sharpe(weights, mean_returns, cov_matrix, risk_free_rate=0.01):\n",
    "    p_std, p_ret = portfolio_annual_performance(weights, mean_returns, cov_matrix)\n",
    "    return -(p_ret - risk_free_rate) / p_std\n",
    "\n",
    "\n",
    "def sortino_ratio(weights, returns, target_return=0.0):\n",
    "    portfolio_return = np.sum(returns.mean() * weights) * 252\n",
    "    downside_returns = np.where(returns < target_return, returns - target_return, 0)\n",
    "    downside_risk = np.sqrt(np.mean(np.square(downside_returns)) * 252)\n",
    "    return -portfolio_return / downside_risk if downside_risk != 0 else float('-inf')\n",
    "\n",
    "\n",
    "def omega_ratio(weights, returns, threshold_return=0.0):\n",
    "    threshold_return = threshold_return / 252\n",
    "    mean_returns = returns @ weights\n",
    "    relative_returns = mean_returns - threshold_return\n",
    "    gain = relative_returns[relative_returns > 0].sum()\n",
    "    loss = -relative_returns[relative_returns < 0].sum()\n",
    "    return -(gain / loss) if loss != 0 else float('-inf')\n",
    "\n",
    "\n",
    "def optimize_portfolio(returns, method='sharpe'):\n",
    "    mean_returns = returns.mean()\n",
    "    cov_matrix = returns.cov()\n",
    "    num_assets = len(mean_returns)\n",
    "    constraints = ({'type': 'eq', 'fun': lambda x: np.sum(x) - 1})\n",
    "    bounds = tuple((0, 1) for asset in range(num_assets))\n",
    "    if method == 'sharpe':\n",
    "        args = (mean_returns, cov_matrix)\n",
    "        result = minimize(negative_sharpe, num_assets*[1./num_assets,], args=args,\n",
    "                          method='SLSQP', bounds=bounds, constraints=constraints)\n",
    "    elif method == 'sortino':\n",
    "        args = (returns)\n",
    "        result = minimize(sortino_ratio, num_assets*[1./num_assets,], args=args,\n",
    "                          method='SLSQP', bounds=bounds, constraints=constraints)\n",
    "    elif method == 'omega':\n",
    "        args = (returns)\n",
    "        result = minimize(omega_ratio, num_assets*[1./num_assets,], args=args,\n",
    "                          method='SLSQP', bounds=bounds, constraints=constraints)\n",
    "        \n",
    "    return result.x\n",
    "\n",
    "\n",
    "def bootstrap_resample(returns, n_bootstraps, n_days, method='sharpe', log_steps=100):\n",
    "    avg_weights = np.zeros(len(returns.columns))\n",
    "    \n",
    "    for i in range(n_bootstraps):\n",
    "        # Resample the returns with replacement\n",
    "        sample_indices = np.random.choice(range(len(returns)), size=n_days, replace=True)\n",
    "        resampled_returns = returns.iloc[sample_indices]\n",
    "        \n",
    "        # Consecutive returns sampling (No substantial difference)\n",
    "#         start_date = np.random.choice(returns.index[:-365])\n",
    "#         end_date = start_date + np.timedelta64(365, 'D')\n",
    "#         resampled_returns = returns.loc[start_date:end_date]  # loc: label index range\n",
    "        \n",
    "        # Perform optimization on the resampled data\n",
    "        weights = optimize_portfolio(resampled_returns, method)\n",
    "        avg_weights += weights\n",
    "        if (i+1) % log_steps == 0:\n",
    "            print(\"Finished round:\", i+1, weights*100)\n",
    "    \n",
    "    avg_weights /= n_bootstraps\n",
    "    return avg_weights"
   ]
  },
  {
   "cell_type": "code",
   "execution_count": 67,
   "metadata": {
    "scrolled": false
   },
   "outputs": [
    {
     "name": "stdout",
     "output_type": "stream",
     "text": [
      "Running year: 2010\n",
      "Running year: 2011\n",
      "Running year: 2012\n",
      "Running year: 2013\n",
      "Running year: 2014\n",
      "Running year: 2015\n",
      "Running year: 2016\n",
      "Running year: 2017\n",
      "Running year: 2018\n",
      "Running year: 2019\n",
      "Running year: 2020\n",
      "Running year: 2021\n",
      "Running year: 2022\n",
      "Running year: 2023\n",
      "    Year  Sharpe_Markowitz  Sharpe_Equal  Ret_Markowitz  Ret_Equal\n",
      "0   2010          1.706669      1.079562       0.085116   0.136031\n",
      "1   2011          1.947209      0.536839       0.089090   0.083547\n",
      "2   2012          1.210184      1.072998       0.053487   0.100357\n",
      "3   2013          0.718943      2.288798       0.041034   0.187923\n",
      "4   2014          2.855801      1.990235       0.102544   0.164858\n",
      "5   2015          0.112670      0.186799       0.015584   0.029594\n",
      "6   2016          1.126612      1.258885       0.060810   0.128606\n",
      "7   2017          3.099778      3.351619       0.120064   0.202763\n",
      "8   2018         -0.116035     -0.117388       0.002277  -0.005484\n",
      "9   2019          3.228498      2.635761       0.196379   0.265069\n",
      "10  2020          1.466653      1.132663       0.188369   0.270654\n",
      "11  2021          1.033208      1.532080       0.078795   0.182282\n",
      "12  2022         -1.487438     -1.131596      -0.195840  -0.216131\n",
      "13  2023          1.939363      2.089734       0.218359   0.254448\n"
     ]
    }
   ],
   "source": [
    "window = 10 \n",
    "years = range(2010, 2024)\n",
    "sharpe_markowitz = []\n",
    "ret_markowitz = []\n",
    "sharpe_equal = []\n",
    "ret_equal = []\n",
    "\n",
    "for year in years:\n",
    "    print(\"Running year:\", year)\n",
    "    start_year = year - window\n",
    "    end_year = year - 1\n",
    "    returns_window = returns.loc[f\"{start_year}-01-01\":f\"{end_year}-12-31\"]\n",
    "\n",
    "    # Optimize portfolio at the end of this window\n",
    "    optimal_weights = bootstrap_resample(returns_window, 100, 252, log_steps=1000)\n",
    "    next_year_returns = returns.loc[f\"{year}-01-01\":f\"{year}-12-31\"]\n",
    "    \n",
    "    # Calculate Sharpe ratio for Markowitz portfolio\n",
    "    mean_returns = next_year_returns.mean()\n",
    "    cov_matrix = next_year_returns.cov()\n",
    "    std_dev, ret = portfolio_annual_performance(optimal_weights, mean_returns, cov_matrix)\n",
    "    sharpe_markowitz.append((ret - 0.01) / std_dev)\n",
    "    ret_markowitz.append(ret)\n",
    "\n",
    "    # Calculate Sharpe ratio for equal weight portfolio\n",
    "    n_items = returns.shape[1]\n",
    "    equal_weights = np.array([1/n_items for _ in range(n_items)])\n",
    "    std_dev, ret = portfolio_annual_performance(equal_weights, mean_returns, cov_matrix)\n",
    "    sharpe_equal.append((ret - 0.01) / std_dev)\n",
    "    ret_equal.append(ret)\n",
    "\n",
    "# Output the results\n",
    "results = pd.DataFrame({\n",
    "    'Year': years,\n",
    "    'Sharpe_Markowitz': sharpe_markowitz,\n",
    "    'Sharpe_Equal': sharpe_equal,\n",
    "    'Ret_Markowitz': ret_markowitz,\n",
    "    'Ret_Equal': ret_equal,\n",
    "})\n",
    "print(results)\n"
   ]
  },
  {
   "cell_type": "code",
   "execution_count": 32,
   "metadata": {},
   "outputs": [
    {
     "name": "stdout",
     "output_type": "stream",
     "text": [
      "Markowitz sharpe mean: 1.3223781997225077 std: 1.2880540249035282 ret mean: 0.11371263894667553\n",
      "Equal sharpe mean: 1.3241262174511892 std: 1.2262948913189584 ret mean: 0.12340690739909166\n"
     ]
    }
   ],
   "source": [
    "# 3 assets\n",
    "m, s, rm = results['Sharpe_Markowitz'].mean(), results['Sharpe_Markowitz'].std(), results['Ret_Markowitz'].mean()\n",
    "print(\"Markowitz sharpe mean:\", m, \"std:\", s, \"ret mean:\", rm)\n",
    "\n",
    "m, s, rm = results['Sharpe_Equal'].mean(), results['Sharpe_Equal'].std(), results['Ret_Equal'].mean()\n",
    "print(\"Equal sharpe mean:\", m, \"std:\", s, \"ret mean:\", rm)"
   ]
  },
  {
   "cell_type": "code",
   "execution_count": 75,
   "metadata": {},
   "outputs": [
    {
     "name": "stdout",
     "output_type": "stream",
     "text": [
      "Markowitz sharpe mean: 1.35, std:1.30, ret mean: 0.075, ret std: 0.102\n",
      "Equal sharpe mean: 1.28, std:1.18, ret mean: 0.127, ret std: 0.129\n"
     ]
    }
   ],
   "source": [
    "# 6 assets\n",
    "m, s, rm, rs = results['Sharpe_Markowitz'].mean(), results['Sharpe_Markowitz'].std(), results['Ret_Markowitz'].mean(), results['Ret_Markowitz'].std()\n",
    "print(f\"Markowitz sharpe mean: {m:.2f}, std:{s:.2f}, ret mean: {rm:.3f}, ret std: {rs:.3f}\")\n",
    "\n",
    "m, s, rm, rs = results['Sharpe_Equal'].mean(), results['Sharpe_Equal'].std(), results['Ret_Equal'].mean(), results['Ret_Equal'].std()\n",
    "print(f\"Equal sharpe mean: {m:.2f}, std:{s:.2f}, ret mean: {rm:.3f}, ret std: {rs:.3f}\")"
   ]
  },
  {
   "cell_type": "code",
   "execution_count": 65,
   "metadata": {},
   "outputs": [
    {
     "data": {
      "image/png": "[encoded data removed]",
      "text/plain": [
       "<Figure size 1080x720 with 1 Axes>"
      ]
     },
     "metadata": {
      "needs_background": "light"
     },
     "output_type": "display_data"
    }
   ],
   "source": [
    "results_melted = results.melt(id_vars='Year', value_vars=['Sharpe_Markowitz', 'Sharpe_Equal'], var_name='Strategy', value_name='Sharpe Ratio')\n",
    "\n",
    "\n",
    "plt.figure(figsize=(15, 10))\n",
    "sns.lineplot(data=results_melted, x='Year', y='Sharpe Ratio', hue='Strategy')\n",
    "plt.title('Comparative Sharpe Ratios Over Years')\n",
    "plt.xlabel('Year')\n",
    "plt.ylabel('Sharpe Ratio')\n",
    "plt.show()"
   ]
  },
  {
   "cell_type": "code",
   "execution_count": 66,
   "metadata": {},
   "outputs": [
    {
     "data": {
      "image/png": "[encoded data removed]",
      "text/plain": [
       "<Figure size 1080x720 with 1 Axes>"
      ]
     },
     "metadata": {
      "needs_background": "light"
     },
     "output_type": "display_data"
    }
   ],
   "source": [
    "results_melted = results.melt(id_vars='Year', value_vars=['Ret_Markowitz', 'Ret_Equal'], var_name='Strategy', value_name='Return')\n",
    "\n",
    "\n",
    "plt.figure(figsize=(15, 10))\n",
    "sns.lineplot(data=results_melted, x='Year', y='Return', hue='Strategy')\n",
    "plt.title('Comparative Returns Over Years')\n",
    "plt.xlabel('Year')\n",
    "plt.ylabel('Returns')\n",
    "plt.show()"
   ]
  },
  {
   "cell_type": "markdown",
   "metadata": {},
   "source": [
    "# Validation Sortino\n",
    "\n",
    "Sortino Ratio = R_f / downside_deviation\n",
    "\n",
    "`R_f`: The excessive return above risk free rate."
   ]
  },
  {
   "cell_type": "code",
   "execution_count": 98,
   "metadata": {},
   "outputs": [
    {
     "name": "stdout",
     "output_type": "stream",
     "text": [
      "Running year: 2010\n",
      "Running year: 2011\n",
      "Running year: 2012\n",
      "Running year: 2013\n",
      "Running year: 2014\n",
      "Running year: 2015\n",
      "Running year: 2016\n",
      "Running year: 2017\n",
      "Running year: 2018\n",
      "Running year: 2019\n",
      "Running year: 2020\n",
      "Running year: 2021\n",
      "Running year: 2022\n",
      "Running year: 2023\n",
      "    Year  Sortino_Markowitz  Sortino_Equal  Ret_Markowitz  Ret_Equal\n",
      "0   2010           1.117909       1.076195       0.141304   0.136031\n",
      "1   2011           0.916225       0.535602       0.142919   0.083547\n",
      "2   2012           0.760637       1.048153       0.072828   0.100357\n",
      "3   2013           2.100829       2.296395       0.171919   0.187923\n",
      "4   2014           2.641206       1.902958       0.228814   0.164858\n",
      "5   2015           0.241414       0.262469       0.027220   0.029594\n",
      "6   2016           1.677134       1.252915       0.172151   0.128606\n",
      "7   2017           3.249994       2.977897       0.221290   0.202763\n",
      "8   2018          -0.056299      -0.040400      -0.007642  -0.005484\n",
      "9   2019           3.584940       2.600507       0.365411   0.265069\n",
      "10  2020           1.784278       1.176469       0.410484   0.270654\n",
      "11  2021           2.545241       1.576859       0.294226   0.182282\n",
      "12  2022          -1.601420      -1.111995      -0.311257  -0.216131\n",
      "13  2023           3.777418       2.372709       0.405089   0.254448\n"
     ]
    }
   ],
   "source": [
    "window = 10 \n",
    "years = range(2010, 2024)\n",
    "sharpe_markowitz = []\n",
    "ret_markowitz = []\n",
    "sharpe_equal = []\n",
    "ret_equal = []\n",
    "\n",
    "for year in years:\n",
    "    print(\"Running year:\", year)\n",
    "    start_year = year - window\n",
    "    end_year = year - 1\n",
    "    returns_window = returns.loc[f\"{start_year}-01-01\":f\"{end_year}-12-31\"]\n",
    "\n",
    "    # Optimize portfolio at the end of this window\n",
    "    optimal_weights = bootstrap_resample(returns_window, 100, 252, method='sortino', log_steps=1000)\n",
    "    next_year_returns = returns.loc[f\"{year}-01-01\":f\"{year}-12-31\"]\n",
    "    \n",
    "    # Calculate Sharpe ratio for Markowitz portfolio\n",
    "    mean_returns = next_year_returns.mean()\n",
    "    cov_matrix = next_year_returns.cov()\n",
    "    std_dev, ret = portfolio_annual_performance(optimal_weights, mean_returns, cov_matrix)\n",
    "    sort_ratio = -sortino_ratio(optimal_weights, next_year_returns)\n",
    "    sharpe_markowitz.append(sort_ratio)\n",
    "    ret_markowitz.append(ret)\n",
    "\n",
    "    # Calculate Sharpe ratio for equal weight portfolio\n",
    "    n_items = returns.shape[1]\n",
    "    equal_weights = np.array([1/n_items for _ in range(n_items)])\n",
    "    std_dev, ret = portfolio_annual_performance(equal_weights, mean_returns, cov_matrix)\n",
    "    sort_ratio = -sortino_ratio(equal_weights, next_year_returns)\n",
    "    sharpe_equal.append(sort_ratio)\n",
    "    ret_equal.append(ret)\n",
    "\n",
    "# Output the results\n",
    "results = pd.DataFrame({\n",
    "    'Year': years,\n",
    "    'Sortino_Markowitz': sharpe_markowitz,\n",
    "    'Sortino_Equal': sharpe_equal,\n",
    "    'Ret_Markowitz': ret_markowitz,\n",
    "    'Ret_Equal': ret_equal,\n",
    "})\n",
    "print(results)"
   ]
  },
  {
   "cell_type": "code",
   "execution_count": 99,
   "metadata": {},
   "outputs": [
    {
     "name": "stdout",
     "output_type": "stream",
     "text": [
      "Markowitz Sortino mean: 1.62, std:1.52, ret mean: 0.167, ret std: 0.190\n",
      "Equal Sortino mean: 1.28, std:1.13, ret mean: 0.127, ret std: 0.129\n"
     ]
    }
   ],
   "source": [
    "# 6 assets\n",
    "m, s, rm, rs = results['Sortino_Markowitz'].mean(), results['Sortino_Markowitz'].std(), results['Ret_Markowitz'].mean(), results['Ret_Markowitz'].std()\n",
    "print(f\"Markowitz Sortino mean: {m:.2f}, std:{s:.2f}, ret mean: {rm:.3f}, ret std: {rs:.3f}\")\n",
    "\n",
    "m, s, rm, rs = results['Sortino_Equal'].mean(), results['Sortino_Equal'].std(), results['Ret_Equal'].mean(), results['Ret_Equal'].std()\n",
    "print(f\"Equal Sortino mean: {m:.2f}, std:{s:.2f}, ret mean: {rm:.3f}, ret std: {rs:.3f}\")"
   ]
  },
  {
   "cell_type": "code",
   "execution_count": 97,
   "metadata": {},
   "outputs": [
    {
     "name": "stdout",
     "output_type": "stream",
     "text": [
      "Optimized Weights:\n",
      "\n",
      "SPY: 4.00%\n",
      "QQQ: 4.00%\n",
      "TLT: 9.00%\n",
      "SOXX: 58.00%\n",
      "DIA: 2.00%\n",
      "BSV: 23.00%\n"
     ]
    }
   ],
   "source": [
    "print(\"Optimized Weights:\\n\")\n",
    "for ticker, weight in zip(tickers, optimal_weights):\n",
    "    print(f\"{ticker}: {weight:.2%}\")"
   ]
  },
  {
   "cell_type": "markdown",
   "metadata": {},
   "source": [
    "# Validation Omega\n",
    "\n",
    "The gains above threshold divided by below threshold."
   ]
  },
  {
   "cell_type": "code",
   "execution_count": 101,
   "metadata": {},
   "outputs": [
    {
     "name": "stdout",
     "output_type": "stream",
     "text": [
      "Running year: 2010\n",
      "Running year: 2011\n",
      "Running year: 2012\n",
      "Running year: 2013\n",
      "Running year: 2014\n",
      "Running year: 2015\n",
      "Running year: 2016\n",
      "Running year: 2017\n",
      "Running year: 2018\n",
      "Running year: 2019\n",
      "Running year: 2020\n",
      "Running year: 2021\n",
      "Running year: 2022\n",
      "Running year: 2023\n",
      "    Year  Omega_Markowitz  Omega_Equal  Ret_Markowitz  Ret_Equal\n",
      "0   2010         1.372801     1.221550       0.084491   0.136031\n",
      "1   2011         1.470848     1.109805       0.100432   0.083547\n",
      "2   2012         1.309670     1.217043       0.045110   0.100357\n",
      "3   2013         1.234636     1.500683       0.038487   0.187923\n",
      "4   2014         1.598881     1.420026       0.081377   0.164858\n",
      "5   2015         1.076953     1.049230       0.016974   0.029594\n",
      "6   2016         1.234530     1.272380       0.051132   0.128606\n",
      "7   2017         1.733217     1.831706       0.079936   0.202763\n",
      "8   2018         1.008687     0.992735       0.003205  -0.005484\n",
      "9   2019         1.834541     1.587051       0.137848   0.265069\n",
      "10  2020         1.357895     1.264702       0.118697   0.270654\n",
      "11  2021         1.237753     1.310454       0.058195   0.182282\n",
      "12  2022         0.808207     0.842941      -0.138248  -0.216131\n",
      "13  2023         1.422631     1.418389       0.181867   0.254448\n"
     ]
    }
   ],
   "source": [
    "window = 10 \n",
    "years = range(2010, 2024)\n",
    "sharpe_markowitz = []\n",
    "ret_markowitz = []\n",
    "sharpe_equal = []\n",
    "ret_equal = []\n",
    "\n",
    "for year in years:\n",
    "    print(\"Running year:\", year)\n",
    "    start_year = year - window\n",
    "    end_year = year - 1\n",
    "    returns_window = returns.loc[f\"{start_year}-01-01\":f\"{end_year}-12-31\"]\n",
    "\n",
    "    # Optimize portfolio at the end of this window\n",
    "    optimal_weights = bootstrap_resample(returns_window, 100, 252, method='omega', log_steps=1000)\n",
    "    next_year_returns = returns.loc[f\"{year}-01-01\":f\"{year}-12-31\"]\n",
    "    \n",
    "    # Calculate Sharpe ratio for Markowitz portfolio\n",
    "    mean_returns = next_year_returns.mean()\n",
    "    cov_matrix = next_year_returns.cov()\n",
    "    std_dev, ret = portfolio_annual_performance(optimal_weights, mean_returns, cov_matrix)\n",
    "    omg_ratio = -omega_ratio(optimal_weights, next_year_returns)\n",
    "    sharpe_markowitz.append(omg_ratio)\n",
    "    ret_markowitz.append(ret)\n",
    "\n",
    "    # Calculate Sharpe ratio for equal weight portfolio\n",
    "    n_items = returns.shape[1]\n",
    "    equal_weights = np.array([1/n_items for _ in range(n_items)])\n",
    "    std_dev, ret = portfolio_annual_performance(equal_weights, mean_returns, cov_matrix)\n",
    "    omg_ratio = -omega_ratio(equal_weights, next_year_returns)\n",
    "    sharpe_equal.append(omg_ratio)\n",
    "    ret_equal.append(ret)\n",
    "\n",
    "# Output the results\n",
    "results = pd.DataFrame({\n",
    "    'Year': years,\n",
    "    'Omega_Markowitz': sharpe_markowitz,\n",
    "    'Omega_Equal': sharpe_equal,\n",
    "    'Ret_Markowitz': ret_markowitz,\n",
    "    'Ret_Equal': ret_equal,\n",
    "})\n",
    "print(results)"
   ]
  },
  {
   "cell_type": "code",
   "execution_count": 102,
   "metadata": {},
   "outputs": [
    {
     "name": "stdout",
     "output_type": "stream",
     "text": [
      "Markowitz Omega mean: 1.34, std:0.28, ret mean: 0.061, ret std: 0.075\n",
      "Equal Omega mean: 1.29, std:0.26, ret mean: 0.127, ret std: 0.129\n",
      "Optimized Weights:\n",
      "\n",
      "SPY: 45.38%\n",
      "QQQ: 12.32%\n",
      "TLT: 10.87%\n",
      "SOXX: 13.47%\n",
      "DIA: 2.56%\n",
      "BSV: 15.40%\n"
     ]
    }
   ],
   "source": [
    "# 6 assets\n",
    "m, s, rm, rs = results['Omega_Markowitz'].mean(), results['Omega_Markowitz'].std(), results['Ret_Markowitz'].mean(), results['Ret_Markowitz'].std()\n",
    "print(f\"Markowitz Omega mean: {m:.2f}, std:{s:.2f}, ret mean: {rm:.3f}, ret std: {rs:.3f}\")\n",
    "\n",
    "m, s, rm, rs = results['Omega_Equal'].mean(), results['Omega_Equal'].std(), results['Ret_Equal'].mean(), results['Ret_Equal'].std()\n",
    "print(f\"Equal Omega mean: {m:.2f}, std:{s:.2f}, ret mean: {rm:.3f}, ret std: {rs:.3f}\")\n",
    "\n",
    "print(\"Optimized Weights:\\n\")\n",
    "for ticker, weight in zip(tickers, optimal_weights):\n",
    "    print(f\"{ticker}: {weight:.2%}\")"
   ]
  },
  {
   "cell_type": "code",
   "execution_count": null,
   "metadata": {},
   "outputs": [],
   "source": []
  },
  {
   "cell_type": "code",
   "execution_count": null,
   "metadata": {},
   "outputs": [],
   "source": []
  },
  {
   "cell_type": "code",
   "execution_count": null,
   "metadata": {},
   "outputs": [],
   "source": []
  },
  {
   "cell_type": "code",
   "execution_count": null,
   "metadata": {},
   "outputs": [],
   "source": []
  }
 ],
 "metadata": {
  "kernelspec": {
   "display_name": "Python 3",
   "language": "python",
   "name": "python3"
  },
  "language_info": {
   "codemirror_mode": {
    "name": "ipython",
    "version": 3
   },
   "file_extension": ".py",
   "mimetype": "text/x-python",
   "name": "python",
   "nbconvert_exporter": "python",
   "pygments_lexer": "ipython3",
   "version": "3.7.7"
  }
 },
 "nbformat": 4,
 "nbformat_minor": 4
}
